{
 "metadata": {
  "language_info": {
   "codemirror_mode": {
    "name": "ipython",
    "version": 3
   },
   "file_extension": ".py",
   "mimetype": "text/x-python",
   "name": "python",
   "nbconvert_exporter": "python",
   "pygments_lexer": "ipython3",
   "version": "3.8.5"
  },
  "orig_nbformat": 2,
  "kernelspec": {
   "name": "python3",
   "display_name": "Python 3.8.5 64-bit ('base': conda)",
   "metadata": {
    "interpreter": {
     "hash": "8622ff085c15f6cc9f9bc345308196ca585eaf1c49b171850405ec6bc4303143"
    }
   }
  }
 },
 "nbformat": 4,
 "nbformat_minor": 2,
 "cells": [
  {
   "cell_type": "code",
   "execution_count": 2054,
   "metadata": {},
   "outputs": [],
   "source": [
    "import pandas as pd\n",
    "import numpy as np"
   ]
  },
  {
   "cell_type": "code",
   "execution_count": 2055,
   "metadata": {},
   "outputs": [],
   "source": [
    "pd.set_option('display.max_row', 300)"
   ]
  },
  {
   "cell_type": "code",
   "execution_count": 2056,
   "metadata": {},
   "outputs": [],
   "source": [
    "df = pd.read_json('ingredients_500.json')"
   ]
  },
  {
   "cell_type": "code",
   "execution_count": 2057,
   "metadata": {},
   "outputs": [],
   "source": [
    "igd_rcp = pd.read_json('ingredients_and_recipe_infos_500.json')\n",
    "rcp = pd.read_json('recipe_infos_500.json')"
   ]
  },
  {
   "cell_type": "code",
   "execution_count": 2058,
   "metadata": {},
   "outputs": [
    {
     "output_type": "execute_result",
     "data": {
      "text/plain": [
       "   recipe_info_id ingredient_name ingredient_amount  source_flag\n",
       "0          420777        잘 말린 코다리               2마리            1\n",
       "1          420777             홍고추                2개            1\n",
       "2          420777            고추가루               2큰술            0\n",
       "3          420777             진간장               2큰술            0\n",
       "4          420777              설탕               2큰술            0"
      ],
      "text/html": "<div>\n<style scoped>\n    .dataframe tbody tr th:only-of-type {\n        vertical-align: middle;\n    }\n\n    .dataframe tbody tr th {\n        vertical-align: top;\n    }\n\n    .dataframe thead th {\n        text-align: right;\n    }\n</style>\n<table border=\"1\" class=\"dataframe\">\n  <thead>\n    <tr style=\"text-align: right;\">\n      <th></th>\n      <th>recipe_info_id</th>\n      <th>ingredient_name</th>\n      <th>ingredient_amount</th>\n      <th>source_flag</th>\n    </tr>\n  </thead>\n  <tbody>\n    <tr>\n      <th>0</th>\n      <td>420777</td>\n      <td>잘 말린 코다리</td>\n      <td>2마리</td>\n      <td>1</td>\n    </tr>\n    <tr>\n      <th>1</th>\n      <td>420777</td>\n      <td>홍고추</td>\n      <td>2개</td>\n      <td>1</td>\n    </tr>\n    <tr>\n      <th>2</th>\n      <td>420777</td>\n      <td>고추가루</td>\n      <td>2큰술</td>\n      <td>0</td>\n    </tr>\n    <tr>\n      <th>3</th>\n      <td>420777</td>\n      <td>진간장</td>\n      <td>2큰술</td>\n      <td>0</td>\n    </tr>\n    <tr>\n      <th>4</th>\n      <td>420777</td>\n      <td>설탕</td>\n      <td>2큰술</td>\n      <td>0</td>\n    </tr>\n  </tbody>\n</table>\n</div>"
     },
     "metadata": {},
     "execution_count": 2058
    }
   ],
   "source": [
    "igd_rcp.head()"
   ]
  },
  {
   "cell_type": "code",
   "execution_count": 2059,
   "metadata": {},
   "outputs": [
    {
     "output_type": "execute_result",
     "data": {
      "text/plain": [
       "   recipe_info_id                  title    view  \\\n",
       "0          420777       꼬들꼬들한 밑반찬  코다리조림  252299   \n",
       "1          667367                    부추전  116104   \n",
       "2          682697  돼지고기 안심으로 만든 돼지고기 장조림  327176   \n",
       "3          690101      씹히는 맛이 좋고나  마늘종볶음  171511   \n",
       "4          693694         야들야들 쫀득쫀득한 동파육  110973   \n",
       "\n",
       "                                   recipe_info_image  \n",
       "0  https://recipe1.ezmember.co.kr/cache/recipe/20...  \n",
       "1  https://recipe1.ezmember.co.kr/cache/recipe/20...  \n",
       "2  https://recipe1.ezmember.co.kr/cache/recipe/20...  \n",
       "3  https://recipe1.ezmember.co.kr/cache/recipe/20...  \n",
       "4  https://recipe1.ezmember.co.kr/cache/recipe/20...  "
      ],
      "text/html": "<div>\n<style scoped>\n    .dataframe tbody tr th:only-of-type {\n        vertical-align: middle;\n    }\n\n    .dataframe tbody tr th {\n        vertical-align: top;\n    }\n\n    .dataframe thead th {\n        text-align: right;\n    }\n</style>\n<table border=\"1\" class=\"dataframe\">\n  <thead>\n    <tr style=\"text-align: right;\">\n      <th></th>\n      <th>recipe_info_id</th>\n      <th>title</th>\n      <th>view</th>\n      <th>recipe_info_image</th>\n    </tr>\n  </thead>\n  <tbody>\n    <tr>\n      <th>0</th>\n      <td>420777</td>\n      <td>꼬들꼬들한 밑반찬  코다리조림</td>\n      <td>252299</td>\n      <td>https://recipe1.ezmember.co.kr/cache/recipe/20...</td>\n    </tr>\n    <tr>\n      <th>1</th>\n      <td>667367</td>\n      <td>부추전</td>\n      <td>116104</td>\n      <td>https://recipe1.ezmember.co.kr/cache/recipe/20...</td>\n    </tr>\n    <tr>\n      <th>2</th>\n      <td>682697</td>\n      <td>돼지고기 안심으로 만든 돼지고기 장조림</td>\n      <td>327176</td>\n      <td>https://recipe1.ezmember.co.kr/cache/recipe/20...</td>\n    </tr>\n    <tr>\n      <th>3</th>\n      <td>690101</td>\n      <td>씹히는 맛이 좋고나  마늘종볶음</td>\n      <td>171511</td>\n      <td>https://recipe1.ezmember.co.kr/cache/recipe/20...</td>\n    </tr>\n    <tr>\n      <th>4</th>\n      <td>693694</td>\n      <td>야들야들 쫀득쫀득한 동파육</td>\n      <td>110973</td>\n      <td>https://recipe1.ezmember.co.kr/cache/recipe/20...</td>\n    </tr>\n  </tbody>\n</table>\n</div>"
     },
     "metadata": {},
     "execution_count": 2059
    }
   ],
   "source": [
    "rcp.head()"
   ]
  },
  {
   "cell_type": "code",
   "execution_count": 2060,
   "metadata": {},
   "outputs": [],
   "source": [
    "igd_rcp = pd.merge(igd_rcp,rcp[['recipe_info_id', 'title']], how='outer')"
   ]
  },
  {
   "cell_type": "code",
   "execution_count": 2061,
   "metadata": {},
   "outputs": [
    {
     "output_type": "execute_result",
     "data": {
      "text/plain": [
       "   recipe_info_id ingredient_name ingredient_amount  source_flag  \\\n",
       "0          420777        잘 말린 코다리               2마리            1   \n",
       "1          420777             홍고추                2개            1   \n",
       "2          420777            고추가루               2큰술            0   \n",
       "3          420777             진간장               2큰술            0   \n",
       "4          420777              설탕               2큰술            0   \n",
       "\n",
       "              title  \n",
       "0  꼬들꼬들한 밑반찬  코다리조림  \n",
       "1  꼬들꼬들한 밑반찬  코다리조림  \n",
       "2  꼬들꼬들한 밑반찬  코다리조림  \n",
       "3  꼬들꼬들한 밑반찬  코다리조림  \n",
       "4  꼬들꼬들한 밑반찬  코다리조림  "
      ],
      "text/html": "<div>\n<style scoped>\n    .dataframe tbody tr th:only-of-type {\n        vertical-align: middle;\n    }\n\n    .dataframe tbody tr th {\n        vertical-align: top;\n    }\n\n    .dataframe thead th {\n        text-align: right;\n    }\n</style>\n<table border=\"1\" class=\"dataframe\">\n  <thead>\n    <tr style=\"text-align: right;\">\n      <th></th>\n      <th>recipe_info_id</th>\n      <th>ingredient_name</th>\n      <th>ingredient_amount</th>\n      <th>source_flag</th>\n      <th>title</th>\n    </tr>\n  </thead>\n  <tbody>\n    <tr>\n      <th>0</th>\n      <td>420777</td>\n      <td>잘 말린 코다리</td>\n      <td>2마리</td>\n      <td>1</td>\n      <td>꼬들꼬들한 밑반찬  코다리조림</td>\n    </tr>\n    <tr>\n      <th>1</th>\n      <td>420777</td>\n      <td>홍고추</td>\n      <td>2개</td>\n      <td>1</td>\n      <td>꼬들꼬들한 밑반찬  코다리조림</td>\n    </tr>\n    <tr>\n      <th>2</th>\n      <td>420777</td>\n      <td>고추가루</td>\n      <td>2큰술</td>\n      <td>0</td>\n      <td>꼬들꼬들한 밑반찬  코다리조림</td>\n    </tr>\n    <tr>\n      <th>3</th>\n      <td>420777</td>\n      <td>진간장</td>\n      <td>2큰술</td>\n      <td>0</td>\n      <td>꼬들꼬들한 밑반찬  코다리조림</td>\n    </tr>\n    <tr>\n      <th>4</th>\n      <td>420777</td>\n      <td>설탕</td>\n      <td>2큰술</td>\n      <td>0</td>\n      <td>꼬들꼬들한 밑반찬  코다리조림</td>\n    </tr>\n  </tbody>\n</table>\n</div>"
     },
     "metadata": {},
     "execution_count": 2061
    }
   ],
   "source": [
    "igd_rcp.head()"
   ]
  },
  {
   "cell_type": "code",
   "execution_count": 2062,
   "metadata": {},
   "outputs": [
    {
     "output_type": "stream",
     "name": "stdout",
     "text": [
      "<class 'pandas.core.frame.DataFrame'>\nRangeIndex: 846 entries, 0 to 845\nData columns (total 1 columns):\n #   Column           Non-Null Count  Dtype \n---  ------           --------------  ----- \n 0   ingredient_name  846 non-null    object\ndtypes: object(1)\nmemory usage: 6.7+ KB\n"
     ]
    }
   ],
   "source": [
    "df.info()"
   ]
  },
  {
   "cell_type": "code",
   "execution_count": 2063,
   "metadata": {},
   "outputs": [],
   "source": [
    "df['tmp'] = df['ingredient_name']\n",
    "df['after'] = df['ingredient_name']\n",
    "df['finish'] = 'n'"
   ]
  },
  {
   "cell_type": "code",
   "execution_count": 2064,
   "metadata": {},
   "outputs": [
    {
     "output_type": "execute_result",
     "data": {
      "text/plain": [
       "   ingredient_name         tmp       after finish\n",
       "0            2배 식초       2배 식초       2배 식초      n\n",
       "1           2배사과식초      2배사과식초      2배사과식초      n\n",
       "2             2배식초        2배식초        2배식초      n\n",
       "3             가는소금        가는소금        가는소금      n\n",
       "4            가다랭이포       가다랭이포       가다랭이포      n\n",
       "5              가래떡         가래떡         가래떡      n\n",
       "6               가지          가지          가지      n\n",
       "7              각얼음         각얼음         각얼음      n\n",
       "8              간양파         간양파         간양파      n\n",
       "9               간장          간장          간장      n\n",
       "10           갈은 양파       갈은 양파       갈은 양파      n\n",
       "11           갈은소고기       갈은소고기       갈은소고기      n\n",
       "12              갈치          갈치          갈치      n\n",
       "13           갈치 큰거       갈치 큰거       갈치 큰거      n\n",
       "14              감자          감자          감자      n\n",
       "15          감자 알감자      감자 알감자      감자 알감자      n\n",
       "16            감자 중        감자 중        감자 중      n\n",
       "17       감자 중간 사이즈   감자 중간 사이즈   감자 중간 사이즈      n\n",
       "18          감자 중간것      감자 중간것      감자 중간것      n\n",
       "19         감자 중간크기     감자 중간크기     감자 중간크기      n\n",
       "20          감자 큰크기      감자 큰크기      감자 큰크기      n\n",
       "21             감자대         감자대         감자대      n\n",
       "22             감자소         감자소         감자소      n\n",
       "23            감자전분        감자전분        감자전분      n\n",
       "24             감자중         감자중         감자중      n\n",
       "25               갓           갓           갓      n\n",
       "26             건고추         건고추         건고추      n\n",
       "27       건고추or청양고추   건고추or청양고추   건고추or청양고추      n\n",
       "28       건다시마10x10   건다시마10x10   건다시마10x10      n\n",
       "29      건다시마4cm4cm  건다시마4cm4cm  건다시마4cm4cm      n\n",
       "30             건미역         건미역         건미역      n\n",
       "31             건바질         건바질         건바질      n\n",
       "32             건새우         건새우         건새우      n\n",
       "33           건새우가루       건새우가루       건새우가루      n\n",
       "34             건포도         건포도         건포도      n\n",
       "35           건표고버섯       건표고버섯       건표고버섯      n\n",
       "36             건홍합         건홍합         건홍합      n\n",
       "37           검은 통깨       검은 통깨       검은 통깨      n\n",
       "38             검은깨         검은깨         검은깨      n\n",
       "39             검은콩         검은콩         검은콩      n\n",
       "40            검은통깨        검은통깨        검은통깨      n\n",
       "41             검정깨         검정깨         검정깨      n\n",
       "42             게맛살         게맛살         게맛살      n\n",
       "43          게맛살짧은것      게맛살짧은것      게맛살짧은것      n\n",
       "44              겨자          겨자          겨자      n\n",
       "45             견과류         견과류         견과류      n\n",
       "46              계란          계란          계란      n\n",
       "47           계란노른자       계란노른자       계란노른자      n\n",
       "48            계피가루        계피가루        계피가루      n\n",
       "49             고구마         고구마         고구마      n\n",
       "50            고구마소        고구마소        고구마소      n\n",
       "51              고기          고기          고기      n\n",
       "52            고다치즈        고다치즈        고다치즈      n\n",
       "53             고등어         고등어         고등어      n\n",
       "54           고르곤졸라       고르곤졸라       고르곤졸라      n\n",
       "55             고사리         고사리         고사리      n\n",
       "56         고슬고슬한 밥     고슬고슬한 밥     고슬고슬한 밥      n\n",
       "57           고운 소금       고운 소금       고운 소금      n\n",
       "58              고추          고추          고추      n\n",
       "59            고추가루        고추가루        고추가루      n\n",
       "60            고추기름        고추기름        고추기름      n\n",
       "61             고추씨         고추씨         고추씨      n\n",
       "62            고추오이        고추오이        고추오이      n\n",
       "63             고추장         고추장         고추장      n\n",
       "64      고추장 육회 양념장  고추장 육회 양념장  고추장 육회 양념장      n\n",
       "65            고춧가루        고춧가루        고춧가루      n\n",
       "66            골드키위        골드키위        골드키위      n\n",
       "67          골뱅이 육수      골뱅이 육수      골뱅이 육수      n\n",
       "68         골뱅이 통조림     골뱅이 통조림     골뱅이 통조림      n\n",
       "69      과일 통조림생략가능  과일 통조림생략가능  과일 통조림생략가능      n\n",
       "70            구운 김        구운 김        구운 김      n\n",
       "71           구운 소금       구운 소금       구운 소금      n\n",
       "72            국 간장        국 간장        국 간장      n\n",
       "73             국간장         국간장         국간장      n\n",
       "74             국멸치         국멸치         국멸치      n\n",
       "75          국물용 멸치      국물용 멸치      국물용 멸치      n\n",
       "76          국물용 새우      국물용 새우      국물용 새우      n\n",
       "77           국물용멸치       국물용멸치       국물용멸치      n\n",
       "78              국수          국수          국수      n\n",
       "79             군만두         군만두         군만두      n\n",
       "80               굴           굴           굴      n\n",
       "81            굴 소스        굴 소스        굴 소스      n\n",
       "82             굴소스         굴소스         굴소스      n\n",
       "83           굵은 감자       굵은 감자       굵은 감자      n\n",
       "84           굵은 소금       굵은 소금       굵은 소금      n\n",
       "85          굵은 천일염      굵은 천일염      굵은 천일염      n\n",
       "86            굵은 파        굵은 파        굵은 파      n\n",
       "87          굵은고춧가루      굵은고춧가루      굵은고춧가루      n\n",
       "88            굵은소금        굵은소금        굵은소금      n\n",
       "89               귤           귤           귤      n\n",
       "90        그라나파다노치즈    그라나파다노치즈    그라나파다노치즈      n\n",
       "91              기름          기름          기름      n\n",
       "92               김           김           김      n\n",
       "93             김가루         김가루         김가루      n\n",
       "94            김밥용김        김밥용김        김밥용김      n\n",
       "95            김장김치        김장김치        김장김치      n\n",
       "96              김치          김치          김치      n\n",
       "97          김치 썬 것      김치 썬 것      김치 썬 것      n\n",
       "98            김치국물        김치국물        김치국물      n\n",
       "99            김칫국물        김칫국물        김칫국물      n"
      ],
      "text/html": "<div>\n<style scoped>\n    .dataframe tbody tr th:only-of-type {\n        vertical-align: middle;\n    }\n\n    .dataframe tbody tr th {\n        vertical-align: top;\n    }\n\n    .dataframe thead th {\n        text-align: right;\n    }\n</style>\n<table border=\"1\" class=\"dataframe\">\n  <thead>\n    <tr style=\"text-align: right;\">\n      <th></th>\n      <th>ingredient_name</th>\n      <th>tmp</th>\n      <th>after</th>\n      <th>finish</th>\n    </tr>\n  </thead>\n  <tbody>\n    <tr>\n      <th>0</th>\n      <td>2배 식초</td>\n      <td>2배 식초</td>\n      <td>2배 식초</td>\n      <td>n</td>\n    </tr>\n    <tr>\n      <th>1</th>\n      <td>2배사과식초</td>\n      <td>2배사과식초</td>\n      <td>2배사과식초</td>\n      <td>n</td>\n    </tr>\n    <tr>\n      <th>2</th>\n      <td>2배식초</td>\n      <td>2배식초</td>\n      <td>2배식초</td>\n      <td>n</td>\n    </tr>\n    <tr>\n      <th>3</th>\n      <td>가는소금</td>\n      <td>가는소금</td>\n      <td>가는소금</td>\n      <td>n</td>\n    </tr>\n    <tr>\n      <th>4</th>\n      <td>가다랭이포</td>\n      <td>가다랭이포</td>\n      <td>가다랭이포</td>\n      <td>n</td>\n    </tr>\n    <tr>\n      <th>5</th>\n      <td>가래떡</td>\n      <td>가래떡</td>\n      <td>가래떡</td>\n      <td>n</td>\n    </tr>\n    <tr>\n      <th>6</th>\n      <td>가지</td>\n      <td>가지</td>\n      <td>가지</td>\n      <td>n</td>\n    </tr>\n    <tr>\n      <th>7</th>\n      <td>각얼음</td>\n      <td>각얼음</td>\n      <td>각얼음</td>\n      <td>n</td>\n    </tr>\n    <tr>\n      <th>8</th>\n      <td>간양파</td>\n      <td>간양파</td>\n      <td>간양파</td>\n      <td>n</td>\n    </tr>\n    <tr>\n      <th>9</th>\n      <td>간장</td>\n      <td>간장</td>\n      <td>간장</td>\n      <td>n</td>\n    </tr>\n    <tr>\n      <th>10</th>\n      <td>갈은 양파</td>\n      <td>갈은 양파</td>\n      <td>갈은 양파</td>\n      <td>n</td>\n    </tr>\n    <tr>\n      <th>11</th>\n      <td>갈은소고기</td>\n      <td>갈은소고기</td>\n      <td>갈은소고기</td>\n      <td>n</td>\n    </tr>\n    <tr>\n      <th>12</th>\n      <td>갈치</td>\n      <td>갈치</td>\n      <td>갈치</td>\n      <td>n</td>\n    </tr>\n    <tr>\n      <th>13</th>\n      <td>갈치 큰거</td>\n      <td>갈치 큰거</td>\n      <td>갈치 큰거</td>\n      <td>n</td>\n    </tr>\n    <tr>\n      <th>14</th>\n      <td>감자</td>\n      <td>감자</td>\n      <td>감자</td>\n      <td>n</td>\n    </tr>\n    <tr>\n      <th>15</th>\n      <td>감자 알감자</td>\n      <td>감자 알감자</td>\n      <td>감자 알감자</td>\n      <td>n</td>\n    </tr>\n    <tr>\n      <th>16</th>\n      <td>감자 중</td>\n      <td>감자 중</td>\n      <td>감자 중</td>\n      <td>n</td>\n    </tr>\n    <tr>\n      <th>17</th>\n      <td>감자 중간 사이즈</td>\n      <td>감자 중간 사이즈</td>\n      <td>감자 중간 사이즈</td>\n      <td>n</td>\n    </tr>\n    <tr>\n      <th>18</th>\n      <td>감자 중간것</td>\n      <td>감자 중간것</td>\n      <td>감자 중간것</td>\n      <td>n</td>\n    </tr>\n    <tr>\n      <th>19</th>\n      <td>감자 중간크기</td>\n      <td>감자 중간크기</td>\n      <td>감자 중간크기</td>\n      <td>n</td>\n    </tr>\n    <tr>\n      <th>20</th>\n      <td>감자 큰크기</td>\n      <td>감자 큰크기</td>\n      <td>감자 큰크기</td>\n      <td>n</td>\n    </tr>\n    <tr>\n      <th>21</th>\n      <td>감자대</td>\n      <td>감자대</td>\n      <td>감자대</td>\n      <td>n</td>\n    </tr>\n    <tr>\n      <th>22</th>\n      <td>감자소</td>\n      <td>감자소</td>\n      <td>감자소</td>\n      <td>n</td>\n    </tr>\n    <tr>\n      <th>23</th>\n      <td>감자전분</td>\n      <td>감자전분</td>\n      <td>감자전분</td>\n      <td>n</td>\n    </tr>\n    <tr>\n      <th>24</th>\n      <td>감자중</td>\n      <td>감자중</td>\n      <td>감자중</td>\n      <td>n</td>\n    </tr>\n    <tr>\n      <th>25</th>\n      <td>갓</td>\n      <td>갓</td>\n      <td>갓</td>\n      <td>n</td>\n    </tr>\n    <tr>\n      <th>26</th>\n      <td>건고추</td>\n      <td>건고추</td>\n      <td>건고추</td>\n      <td>n</td>\n    </tr>\n    <tr>\n      <th>27</th>\n      <td>건고추or청양고추</td>\n      <td>건고추or청양고추</td>\n      <td>건고추or청양고추</td>\n      <td>n</td>\n    </tr>\n    <tr>\n      <th>28</th>\n      <td>건다시마10x10</td>\n      <td>건다시마10x10</td>\n      <td>건다시마10x10</td>\n      <td>n</td>\n    </tr>\n    <tr>\n      <th>29</th>\n      <td>건다시마4cm4cm</td>\n      <td>건다시마4cm4cm</td>\n      <td>건다시마4cm4cm</td>\n      <td>n</td>\n    </tr>\n    <tr>\n      <th>30</th>\n      <td>건미역</td>\n      <td>건미역</td>\n      <td>건미역</td>\n      <td>n</td>\n    </tr>\n    <tr>\n      <th>31</th>\n      <td>건바질</td>\n      <td>건바질</td>\n      <td>건바질</td>\n      <td>n</td>\n    </tr>\n    <tr>\n      <th>32</th>\n      <td>건새우</td>\n      <td>건새우</td>\n      <td>건새우</td>\n      <td>n</td>\n    </tr>\n    <tr>\n      <th>33</th>\n      <td>건새우가루</td>\n      <td>건새우가루</td>\n      <td>건새우가루</td>\n      <td>n</td>\n    </tr>\n    <tr>\n      <th>34</th>\n      <td>건포도</td>\n      <td>건포도</td>\n      <td>건포도</td>\n      <td>n</td>\n    </tr>\n    <tr>\n      <th>35</th>\n      <td>건표고버섯</td>\n      <td>건표고버섯</td>\n      <td>건표고버섯</td>\n      <td>n</td>\n    </tr>\n    <tr>\n      <th>36</th>\n      <td>건홍합</td>\n      <td>건홍합</td>\n      <td>건홍합</td>\n      <td>n</td>\n    </tr>\n    <tr>\n      <th>37</th>\n      <td>검은 통깨</td>\n      <td>검은 통깨</td>\n      <td>검은 통깨</td>\n      <td>n</td>\n    </tr>\n    <tr>\n      <th>38</th>\n      <td>검은깨</td>\n      <td>검은깨</td>\n      <td>검은깨</td>\n      <td>n</td>\n    </tr>\n    <tr>\n      <th>39</th>\n      <td>검은콩</td>\n      <td>검은콩</td>\n      <td>검은콩</td>\n      <td>n</td>\n    </tr>\n    <tr>\n      <th>40</th>\n      <td>검은통깨</td>\n      <td>검은통깨</td>\n      <td>검은통깨</td>\n      <td>n</td>\n    </tr>\n    <tr>\n      <th>41</th>\n      <td>검정깨</td>\n      <td>검정깨</td>\n      <td>검정깨</td>\n      <td>n</td>\n    </tr>\n    <tr>\n      <th>42</th>\n      <td>게맛살</td>\n      <td>게맛살</td>\n      <td>게맛살</td>\n      <td>n</td>\n    </tr>\n    <tr>\n      <th>43</th>\n      <td>게맛살짧은것</td>\n      <td>게맛살짧은것</td>\n      <td>게맛살짧은것</td>\n      <td>n</td>\n    </tr>\n    <tr>\n      <th>44</th>\n      <td>겨자</td>\n      <td>겨자</td>\n      <td>겨자</td>\n      <td>n</td>\n    </tr>\n    <tr>\n      <th>45</th>\n      <td>견과류</td>\n      <td>견과류</td>\n      <td>견과류</td>\n      <td>n</td>\n    </tr>\n    <tr>\n      <th>46</th>\n      <td>계란</td>\n      <td>계란</td>\n      <td>계란</td>\n      <td>n</td>\n    </tr>\n    <tr>\n      <th>47</th>\n      <td>계란노른자</td>\n      <td>계란노른자</td>\n      <td>계란노른자</td>\n      <td>n</td>\n    </tr>\n    <tr>\n      <th>48</th>\n      <td>계피가루</td>\n      <td>계피가루</td>\n      <td>계피가루</td>\n      <td>n</td>\n    </tr>\n    <tr>\n      <th>49</th>\n      <td>고구마</td>\n      <td>고구마</td>\n      <td>고구마</td>\n      <td>n</td>\n    </tr>\n    <tr>\n      <th>50</th>\n      <td>고구마소</td>\n      <td>고구마소</td>\n      <td>고구마소</td>\n      <td>n</td>\n    </tr>\n    <tr>\n      <th>51</th>\n      <td>고기</td>\n      <td>고기</td>\n      <td>고기</td>\n      <td>n</td>\n    </tr>\n    <tr>\n      <th>52</th>\n      <td>고다치즈</td>\n      <td>고다치즈</td>\n      <td>고다치즈</td>\n      <td>n</td>\n    </tr>\n    <tr>\n      <th>53</th>\n      <td>고등어</td>\n      <td>고등어</td>\n      <td>고등어</td>\n      <td>n</td>\n    </tr>\n    <tr>\n      <th>54</th>\n      <td>고르곤졸라</td>\n      <td>고르곤졸라</td>\n      <td>고르곤졸라</td>\n      <td>n</td>\n    </tr>\n    <tr>\n      <th>55</th>\n      <td>고사리</td>\n      <td>고사리</td>\n      <td>고사리</td>\n      <td>n</td>\n    </tr>\n    <tr>\n      <th>56</th>\n      <td>고슬고슬한 밥</td>\n      <td>고슬고슬한 밥</td>\n      <td>고슬고슬한 밥</td>\n      <td>n</td>\n    </tr>\n    <tr>\n      <th>57</th>\n      <td>고운 소금</td>\n      <td>고운 소금</td>\n      <td>고운 소금</td>\n      <td>n</td>\n    </tr>\n    <tr>\n      <th>58</th>\n      <td>고추</td>\n      <td>고추</td>\n      <td>고추</td>\n      <td>n</td>\n    </tr>\n    <tr>\n      <th>59</th>\n      <td>고추가루</td>\n      <td>고추가루</td>\n      <td>고추가루</td>\n      <td>n</td>\n    </tr>\n    <tr>\n      <th>60</th>\n      <td>고추기름</td>\n      <td>고추기름</td>\n      <td>고추기름</td>\n      <td>n</td>\n    </tr>\n    <tr>\n      <th>61</th>\n      <td>고추씨</td>\n      <td>고추씨</td>\n      <td>고추씨</td>\n      <td>n</td>\n    </tr>\n    <tr>\n      <th>62</th>\n      <td>고추오이</td>\n      <td>고추오이</td>\n      <td>고추오이</td>\n      <td>n</td>\n    </tr>\n    <tr>\n      <th>63</th>\n      <td>고추장</td>\n      <td>고추장</td>\n      <td>고추장</td>\n      <td>n</td>\n    </tr>\n    <tr>\n      <th>64</th>\n      <td>고추장 육회 양념장</td>\n      <td>고추장 육회 양념장</td>\n      <td>고추장 육회 양념장</td>\n      <td>n</td>\n    </tr>\n    <tr>\n      <th>65</th>\n      <td>고춧가루</td>\n      <td>고춧가루</td>\n      <td>고춧가루</td>\n      <td>n</td>\n    </tr>\n    <tr>\n      <th>66</th>\n      <td>골드키위</td>\n      <td>골드키위</td>\n      <td>골드키위</td>\n      <td>n</td>\n    </tr>\n    <tr>\n      <th>67</th>\n      <td>골뱅이 육수</td>\n      <td>골뱅이 육수</td>\n      <td>골뱅이 육수</td>\n      <td>n</td>\n    </tr>\n    <tr>\n      <th>68</th>\n      <td>골뱅이 통조림</td>\n      <td>골뱅이 통조림</td>\n      <td>골뱅이 통조림</td>\n      <td>n</td>\n    </tr>\n    <tr>\n      <th>69</th>\n      <td>과일 통조림생략가능</td>\n      <td>과일 통조림생략가능</td>\n      <td>과일 통조림생략가능</td>\n      <td>n</td>\n    </tr>\n    <tr>\n      <th>70</th>\n      <td>구운 김</td>\n      <td>구운 김</td>\n      <td>구운 김</td>\n      <td>n</td>\n    </tr>\n    <tr>\n      <th>71</th>\n      <td>구운 소금</td>\n      <td>구운 소금</td>\n      <td>구운 소금</td>\n      <td>n</td>\n    </tr>\n    <tr>\n      <th>72</th>\n      <td>국 간장</td>\n      <td>국 간장</td>\n      <td>국 간장</td>\n      <td>n</td>\n    </tr>\n    <tr>\n      <th>73</th>\n      <td>국간장</td>\n      <td>국간장</td>\n      <td>국간장</td>\n      <td>n</td>\n    </tr>\n    <tr>\n      <th>74</th>\n      <td>국멸치</td>\n      <td>국멸치</td>\n      <td>국멸치</td>\n      <td>n</td>\n    </tr>\n    <tr>\n      <th>75</th>\n      <td>국물용 멸치</td>\n      <td>국물용 멸치</td>\n      <td>국물용 멸치</td>\n      <td>n</td>\n    </tr>\n    <tr>\n      <th>76</th>\n      <td>국물용 새우</td>\n      <td>국물용 새우</td>\n      <td>국물용 새우</td>\n      <td>n</td>\n    </tr>\n    <tr>\n      <th>77</th>\n      <td>국물용멸치</td>\n      <td>국물용멸치</td>\n      <td>국물용멸치</td>\n      <td>n</td>\n    </tr>\n    <tr>\n      <th>78</th>\n      <td>국수</td>\n      <td>국수</td>\n      <td>국수</td>\n      <td>n</td>\n    </tr>\n    <tr>\n      <th>79</th>\n      <td>군만두</td>\n      <td>군만두</td>\n      <td>군만두</td>\n      <td>n</td>\n    </tr>\n    <tr>\n      <th>80</th>\n      <td>굴</td>\n      <td>굴</td>\n      <td>굴</td>\n      <td>n</td>\n    </tr>\n    <tr>\n      <th>81</th>\n      <td>굴 소스</td>\n      <td>굴 소스</td>\n      <td>굴 소스</td>\n      <td>n</td>\n    </tr>\n    <tr>\n      <th>82</th>\n      <td>굴소스</td>\n      <td>굴소스</td>\n      <td>굴소스</td>\n      <td>n</td>\n    </tr>\n    <tr>\n      <th>83</th>\n      <td>굵은 감자</td>\n      <td>굵은 감자</td>\n      <td>굵은 감자</td>\n      <td>n</td>\n    </tr>\n    <tr>\n      <th>84</th>\n      <td>굵은 소금</td>\n      <td>굵은 소금</td>\n      <td>굵은 소금</td>\n      <td>n</td>\n    </tr>\n    <tr>\n      <th>85</th>\n      <td>굵은 천일염</td>\n      <td>굵은 천일염</td>\n      <td>굵은 천일염</td>\n      <td>n</td>\n    </tr>\n    <tr>\n      <th>86</th>\n      <td>굵은 파</td>\n      <td>굵은 파</td>\n      <td>굵은 파</td>\n      <td>n</td>\n    </tr>\n    <tr>\n      <th>87</th>\n      <td>굵은고춧가루</td>\n      <td>굵은고춧가루</td>\n      <td>굵은고춧가루</td>\n      <td>n</td>\n    </tr>\n    <tr>\n      <th>88</th>\n      <td>굵은소금</td>\n      <td>굵은소금</td>\n      <td>굵은소금</td>\n      <td>n</td>\n    </tr>\n    <tr>\n      <th>89</th>\n      <td>귤</td>\n      <td>귤</td>\n      <td>귤</td>\n      <td>n</td>\n    </tr>\n    <tr>\n      <th>90</th>\n      <td>그라나파다노치즈</td>\n      <td>그라나파다노치즈</td>\n      <td>그라나파다노치즈</td>\n      <td>n</td>\n    </tr>\n    <tr>\n      <th>91</th>\n      <td>기름</td>\n      <td>기름</td>\n      <td>기름</td>\n      <td>n</td>\n    </tr>\n    <tr>\n      <th>92</th>\n      <td>김</td>\n      <td>김</td>\n      <td>김</td>\n      <td>n</td>\n    </tr>\n    <tr>\n      <th>93</th>\n      <td>김가루</td>\n      <td>김가루</td>\n      <td>김가루</td>\n      <td>n</td>\n    </tr>\n    <tr>\n      <th>94</th>\n      <td>김밥용김</td>\n      <td>김밥용김</td>\n      <td>김밥용김</td>\n      <td>n</td>\n    </tr>\n    <tr>\n      <th>95</th>\n      <td>김장김치</td>\n      <td>김장김치</td>\n      <td>김장김치</td>\n      <td>n</td>\n    </tr>\n    <tr>\n      <th>96</th>\n      <td>김치</td>\n      <td>김치</td>\n      <td>김치</td>\n      <td>n</td>\n    </tr>\n    <tr>\n      <th>97</th>\n      <td>김치 썬 것</td>\n      <td>김치 썬 것</td>\n      <td>김치 썬 것</td>\n      <td>n</td>\n    </tr>\n    <tr>\n      <th>98</th>\n      <td>김치국물</td>\n      <td>김치국물</td>\n      <td>김치국물</td>\n      <td>n</td>\n    </tr>\n    <tr>\n      <th>99</th>\n      <td>김칫국물</td>\n      <td>김칫국물</td>\n      <td>김칫국물</td>\n      <td>n</td>\n    </tr>\n  </tbody>\n</table>\n</div>"
     },
     "metadata": {},
     "execution_count": 2064
    }
   ],
   "source": [
    "condition = df['finish'] == 'n'\n",
    "df[condition].head(100)"
   ]
  },
  {
   "cell_type": "code",
   "execution_count": 2065,
   "metadata": {},
   "outputs": [],
   "source": [
    "def representative(word):\n",
    "    condition = df['tmp'].str.contains(word)\n",
    "    notfinished = df['finish'] == 'n'\n",
    "    df.loc[condition & notfinished, 'after']= word\n",
    "    df.loc[condition & notfinished, 'finish'] = 'y'"
   ]
  },
  {
   "cell_type": "code",
   "execution_count": 2066,
   "metadata": {},
   "outputs": [],
   "source": [
    "def repre_switch(w1, w2=None, regexValue=False):\n",
    "    if not w2:\n",
    "        w2 = w1\n",
    "    condition = df['tmp'].str.contains(w1, regex=regexValue)\n",
    "    notfinished = df['finish'] == 'n'\n",
    "    df.loc[condition & notfinished, 'after']= w2\n",
    "    df.loc[condition & notfinished, 'finish'] = 'y'"
   ]
  },
  {
   "cell_type": "code",
   "execution_count": 2070,
   "metadata": {},
   "outputs": [],
   "source": [
    "representative('식초')\n",
    "representative('설탕')\n",
    "representative('소금')\n",
    "representative('양파')\n",
    "representative('감자')\n",
    "representative('파프리카')\n",
    "representative('키위')\n",
    "representative('피클')\n",
    "representative('오이')\n",
    "representative('토마토')\n",
    "representative('사과')\n",
    "representative('양배추')\n",
    "repre_switch('배추김치', '김치')\n",
    "repre_switch('배추')\n",
    "repre_switch('상추')\n",
    "repre_switch('양상추')\n",
    "repre_switch('마늘')\n",
    "repre_switch('녹말')\n",
    "repre_switch('가지')\n",
    "repre_switch('만두피')\n",
    "repre_switch('만두')\n",
    "repre_switch('김치')\n",
    "repre_switch('김칫', '김치')\n",
    "repre_switch('계란')\n",
    "repre_switch('달걀', '계란')\n",
    "repre_switch('쪽파', '대파')\n",
    "repre_switch('대파')\n",
    "repre_switch('부추')\n",
    "repre_switch('단호박')\n",
    "repre_switch('애호박')\n",
    "repre_switch('호박')\n",
    "repre_switch('새우가루')\n",
    "repre_switch('새우젓')\n",
    "repre_switch('고구마순')\n",
    "repre_switch('고구마')\n",
    "repre_switch('갈치')\n",
    "repre_switch('바질')\n",
    "repre_switch('계피', '시나몬')\n",
    "repre_switch('시나몬')\n",
    "repre_switch('맛살')\n",
    "repre_switch('당근')\n",
    "repre_switch('생강')\n",
    "repre_switch('미나리')\n",
    "repre_switch('초고추장')\n",
    "repre_switch('고추장')\n",
    "repre_switch('고추가루')\n",
    "repre_switch('고추')\n",
    "repre_switch('고춧가루', '고추가루')\n",
    "repre_switch('천일염', '소금')\n",
    "repre_switch('간장')\n",
    "repre_switch('파인애플')\n",
    "repre_switch('미역')\n",
    "repre_switch('콩나물 삶은국물', '육수')\n",
    "repre_switch('콩나물')\n",
    "repre_switch('우유')\n",
    "repre_switch('물엿')\n",
    "repre_switch('조청', '물엿')\n",
    "repre_switch('올리고당', '물엿')\n",
    "repre_switch('시금치')\n",
    "repre_switch('고사리')\n",
    "repre_switch('얼음')\n",
    "repre_switch('깻잎')\n",
    "repre_switch('당면')\n",
    "repre_switch('냉면육수', '육수')\n",
    "repre_switch('라면스프', '조미료')\n",
    "repre_switch('면')\n",
    "repre_switch('햄')\n",
    "repre_switch('소.지', '소시지', regexValue=True)\n",
    "repre_switch('삼겹살')\n",
    "repre_switch('파슬리')\n",
    "repre_switch('미더덕')\n",
    "repre_switch('더덕')\n",
    "repre_switch('굴 소스', '굴소스')\n",
    "repre_switch('굴소스')\n",
    "repre_switch('다시다')\n",
    "repre_switch('게')\n",
    "repre_switch('할라페뇨', '할라피뇨')\n",
    "repre_switch('육수')\n",
    "repre_switch('다시마')\n",
    "repre_switch('멸치액.', '액젓', regexValue=True)\n",
    "repre_switch('새우')\n",
    "repre_switch('국물', '육수')\n",
    "repre_switch('멸치다싯물', '육수')\n",
    "repre_switch('멸치')\n",
    "repre_switch('버섯')\n",
    "repre_switch('고등어')\n",
    "repre_switch('대구')\n",
    "repre_switch('치즈')\n",
    "repre_switch('소고기')\n",
    "repre_switch('돼지', '돼지고기')\n",
    "repre_switch('와인')\n",
    "repre_switch('레몬')\n",
    "repre_switch('동태')\n",
    "repre_switch('다시물', '육수')\n",
    "repre_switch('나물')\n",
    "repre_switch('요구르트', '요거트')\n",
    "repre_switch('삶은 물', '육수')\n",
    "repre_switch('연유', '연유')\n",
    "repre_switch('올리브[\\w\\W]', '올리브유', regexValue=True)\n",
    "repre_switch('유정란','계란')\n",
    "repre_switch('유', '식용유')\n",
    "repre_switch('튀김기름', '식용유')\n",
    "repre_switch('참기름', '참기름')\n",
    "repre_switch('들기름', '참기름')\n",
    "repre_switch('기름','식용유')\n",
    "repre_switch('매실')\n",
    "repre_switch('머스.드', '머스타드', regexValue=True)\n",
    "repre_switch('겨자')\n",
    "repre_switch('쨈', '잼')\n",
    "repre_switch('잼')\n",
    "repre_switch('발사믹')\n",
    "repre_switch('생크림','생크림')\n",
    "repre_switch('두부')\n",
    "repre_switch('등갈비')\n",
    "repre_switch('땅콩버터', '잼')\n",
    "repre_switch('땅콩')\n",
    "repre_switch('메.리알', '메추리알', regexValue=True)\n",
    "repre_switch('미더덕')\n",
    "repre_switch('더덕')\n",
    "repre_switch('당귀','미나리')\n",
    "repre_switch('도라지')\n",
    "repre_switch('해파리')\n",
    "repre_switch('파마산','치즈')\n",
    "repre_switch('파스타','면')\n",
    "repre_switch('아스파라거스')\n",
    "repre_switch('파래')\n",
    "repre_switch('베이킹파우더','베이킹파우더')\n",
    "repre_switch('파')\n",
    "repre_switch('조개')\n",
    "repre_switch('.젓', '액젓', regexValue=True)\n",
    "repre_switch('무말랭이')\n",
    "repre_switch('단무지')\n",
    "repre_switch('무')\n",
    "repre_switch('콩')\n",
    "repre_switch('배')\n",
    "repre_switch('바지락')\n",
    "repre_switch('쇠고기','소고기')"
   ]
  },
  {
   "cell_type": "code",
   "execution_count": 2312,
   "metadata": {},
   "outputs": [],
   "source": [
    "repre_switch('북어')\n",
    "repre_switch('연어')\n",
    "repre_switch('어묵')\n",
    "repre_switch('오징어')\n",
    "repre_switch('장어')\n",
    "repre_switch('떡')\n",
    "repre_switch('베이컨')\n",
    "repre_switch('산초','후추')\n",
    "repre_switch('후추')\n",
    "repre_switch('후춧','후추')\n",
    "repre_switch('김가루','김')\n",
    "repre_switch('들깨가루','깨')\n",
    "repre_switch('카레')\n",
    "repre_switch('가루','가루')\n",
    "repre_switch('깨')\n",
    "repre_switch('스팸','햄')\n",
    "repre_switch('홍합','조개')\n",
    "repre_switch('찹쌀')\n",
    "repre_switch('김')\n",
    "repre_switch('밥')\n",
    "repre_switch('쌀')\n",
    "repre_switch('소주')\n",
    "repre_switch('맛술','소주')\n",
    "repre_switch('식빵')\n",
    "repre_switch('물')\n",
    "repre_switch('생수','물')\n",
    "repre_switch('쌈','상추')\n",
    "repre_switch('느타리','버섯')\n",
    "repre_switch('우럭')\n",
    "repre_switch('된장')\n",
    "repre_switch('땅콩','견과류')\n",
    "repre_switch('호두','견과류')\n",
    "repre_switch('아몬드','견과류')\n",
    "repre_switch('견과류','견과류')\n",
    "repre_switch('비엔나','소시지')\n",
    "repre_switch('낙지')\n",
    "repre_switch('국수','면')\n",
    "repre_switch('돈까스소스')\n",
    "repre_switch('돈까스')\n",
    "repre_switch('닭가슴살')\n",
    "repre_switch('닭')\n",
    "repre_switch('오뎅','어묵')\n",
    "repre_switch('액','액젓')\n",
    "repre_switch('참치')\n",
    "repre_switch('사리','면')\n",
    "repre_switch('페이퍼','라이스페이퍼')\n",
    "repre_switch('불고기')"
   ]
  },
  {
   "cell_type": "code",
   "execution_count": 2374,
   "metadata": {},
   "outputs": [],
   "source": [
    "repre_switch('불고기')"
   ]
  },
  {
   "cell_type": "code",
   "execution_count": 2375,
   "metadata": {},
   "outputs": [],
   "source": [
    "df.to_csv('ingredient_3.csv', index=False)"
   ]
  },
  {
   "cell_type": "code",
   "execution_count": null,
   "metadata": {},
   "outputs": [],
   "source": []
  }
 ]
}