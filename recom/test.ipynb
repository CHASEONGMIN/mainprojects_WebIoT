{
 "metadata": {
  "language_info": {
   "codemirror_mode": {
    "name": "ipython",
    "version": 3
   },
   "file_extension": ".py",
   "mimetype": "text/x-python",
   "name": "python",
   "nbconvert_exporter": "python",
   "pygments_lexer": "ipython3",
   "version": "3.8.5"
  },
  "orig_nbformat": 2,
  "kernelspec": {
   "name": "python3",
   "display_name": "Python 3.8.5 64-bit ('base': conda)",
   "metadata": {
    "interpreter": {
     "hash": "8622ff085c15f6cc9f9bc345308196ca585eaf1c49b171850405ec6bc4303143"
    }
   }
  }
 },
 "nbformat": 4,
 "nbformat_minor": 2,
 "cells": [
  {
   "cell_type": "code",
   "execution_count": 198,
   "metadata": {},
   "outputs": [],
   "source": [
    "import requests\n",
    "import numpy as np\n",
    "import pandas as pd\n",
    "from sklearn.feature_extraction.text import CountVectorizer\n",
    "from sklearn.metrics.pairwise import cosine_similarity"
   ]
  },
  {
   "source": [
    "# 1. Node > Django"
   ],
   "cell_type": "markdown",
   "metadata": {}
  },
  {
   "cell_type": "code",
   "execution_count": 6,
   "metadata": {},
   "outputs": [],
   "source": [
    "node_origin = 'http://localhost:3000'\n",
    "url = node_origin + '/test/nodedb_to_django'+'/420777'"
   ]
  },
  {
   "cell_type": "code",
   "execution_count": 7,
   "metadata": {},
   "outputs": [
    {
     "output_type": "stream",
     "name": "stdout",
     "text": [
      "<Response [200]>\n"
     ]
    }
   ],
   "source": [
    "res = requests.get(url)\n",
    "print(res)"
   ]
  },
  {
   "cell_type": "code",
   "execution_count": 10,
   "metadata": {},
   "outputs": [
    {
     "output_type": "execute_result",
     "data": {
      "text/plain": [
       "[{'ingredient_name': '코다리'},\n",
       " {'ingredient_name': '고추'},\n",
       " {'ingredient_name': '고추가루'},\n",
       " {'ingredient_name': '간장'},\n",
       " {'ingredient_name': '설탕'},\n",
       " {'ingredient_name': '파'},\n",
       " {'ingredient_name': '마늘'},\n",
       " {'ingredient_name': '생강'},\n",
       " {'ingredient_name': '후추'},\n",
       " {'ingredient_name': '물엿'},\n",
       " {'ingredient_name': '소주'},\n",
       " {'ingredient_name': '참기름'},\n",
       " {'ingredient_name': '깨'},\n",
       " {'ingredient_name': '올리브유'},\n",
       " {'ingredient_name': '물'}]"
      ]
     },
     "metadata": {},
     "execution_count": 10
    }
   ],
   "source": [
    "res.json()"
   ]
  },
  {
   "cell_type": "code",
   "execution_count": 185,
   "metadata": {},
   "outputs": [
    {
     "output_type": "execute_result",
     "data": {
      "text/plain": [
       "                                        ingredient\n",
       "0  코다리 고추 고추가루 간장 설탕 파 마늘 생강 후추 물엿 소주 참기름 깨 올리브유 물"
      ],
      "text/html": "<div>\n<style scoped>\n    .dataframe tbody tr th:only-of-type {\n        vertical-align: middle;\n    }\n\n    .dataframe tbody tr th {\n        vertical-align: top;\n    }\n\n    .dataframe thead th {\n        text-align: right;\n    }\n</style>\n<table border=\"1\" class=\"dataframe\">\n  <thead>\n    <tr style=\"text-align: right;\">\n      <th></th>\n      <th>ingredient</th>\n    </tr>\n  </thead>\n  <tbody>\n    <tr>\n      <th>0</th>\n      <td>코다리 고추 고추가루 간장 설탕 파 마늘 생강 후추 물엿 소주 참기름 깨 올리브유 물</td>\n    </tr>\n  </tbody>\n</table>\n</div>"
     },
     "metadata": {},
     "execution_count": 185
    }
   ],
   "source": [
    "retaining"
   ]
  },
  {
   "source": [
    "# 2. Django db에 넣을 데이터 format"
   ],
   "cell_type": "markdown",
   "metadata": {}
  },
  {
   "cell_type": "code",
   "execution_count": 27,
   "metadata": {},
   "outputs": [
    {
     "output_type": "execute_result",
     "data": {
      "text/plain": [
       "      recipe_info_id ingredient_name    view\n",
       "0             420777             코다리  252299\n",
       "1             420777              고추  252299\n",
       "2             667367              부추  116104\n",
       "3             667367              양파  116104\n",
       "4             667367              당근  116104\n",
       "...              ...             ...     ...\n",
       "2390         5840021              낙지  114278\n",
       "2391         5840021              대파  114278\n",
       "2392         5840021             애호박  114278\n",
       "2393         5840021              소금  114278\n",
       "2394         5859882              대파  352466\n",
       "\n",
       "[2395 rows x 3 columns]"
      ],
      "text/html": "<div>\n<style scoped>\n    .dataframe tbody tr th:only-of-type {\n        vertical-align: middle;\n    }\n\n    .dataframe tbody tr th {\n        vertical-align: top;\n    }\n\n    .dataframe thead th {\n        text-align: right;\n    }\n</style>\n<table border=\"1\" class=\"dataframe\">\n  <thead>\n    <tr style=\"text-align: right;\">\n      <th></th>\n      <th>recipe_info_id</th>\n      <th>ingredient_name</th>\n      <th>view</th>\n    </tr>\n  </thead>\n  <tbody>\n    <tr>\n      <th>0</th>\n      <td>420777</td>\n      <td>코다리</td>\n      <td>252299</td>\n    </tr>\n    <tr>\n      <th>1</th>\n      <td>420777</td>\n      <td>고추</td>\n      <td>252299</td>\n    </tr>\n    <tr>\n      <th>2</th>\n      <td>667367</td>\n      <td>부추</td>\n      <td>116104</td>\n    </tr>\n    <tr>\n      <th>3</th>\n      <td>667367</td>\n      <td>양파</td>\n      <td>116104</td>\n    </tr>\n    <tr>\n      <th>4</th>\n      <td>667367</td>\n      <td>당근</td>\n      <td>116104</td>\n    </tr>\n    <tr>\n      <th>...</th>\n      <td>...</td>\n      <td>...</td>\n      <td>...</td>\n    </tr>\n    <tr>\n      <th>2390</th>\n      <td>5840021</td>\n      <td>낙지</td>\n      <td>114278</td>\n    </tr>\n    <tr>\n      <th>2391</th>\n      <td>5840021</td>\n      <td>대파</td>\n      <td>114278</td>\n    </tr>\n    <tr>\n      <th>2392</th>\n      <td>5840021</td>\n      <td>애호박</td>\n      <td>114278</td>\n    </tr>\n    <tr>\n      <th>2393</th>\n      <td>5840021</td>\n      <td>소금</td>\n      <td>114278</td>\n    </tr>\n    <tr>\n      <th>2394</th>\n      <td>5859882</td>\n      <td>대파</td>\n      <td>352466</td>\n    </tr>\n  </tbody>\n</table>\n<p>2395 rows × 3 columns</p>\n</div>"
     },
     "metadata": {},
     "execution_count": 27
    }
   ],
   "source": [
    "ori = pd.read_json('django_db.json')\n",
    "ori"
   ]
  },
  {
   "cell_type": "code",
   "execution_count": 137,
   "metadata": {},
   "outputs": [
    {
     "output_type": "execute_result",
     "data": {
      "text/plain": [
       "      recipe_info_id    view\n",
       "0             420777  252299\n",
       "2             667367  116104\n",
       "9             682697  327176\n",
       "11            690101  171511\n",
       "18            693694  110973\n",
       "...              ...     ...\n",
       "2377         5816092  236561\n",
       "2381         5817718  134708\n",
       "2384         5821585  230254\n",
       "2390         5840021  114278\n",
       "2394         5859882  352466\n",
       "\n",
       "[496 rows x 2 columns]"
      ],
      "text/html": "<div>\n<style scoped>\n    .dataframe tbody tr th:only-of-type {\n        vertical-align: middle;\n    }\n\n    .dataframe tbody tr th {\n        vertical-align: top;\n    }\n\n    .dataframe thead th {\n        text-align: right;\n    }\n</style>\n<table border=\"1\" class=\"dataframe\">\n  <thead>\n    <tr style=\"text-align: right;\">\n      <th></th>\n      <th>recipe_info_id</th>\n      <th>view</th>\n    </tr>\n  </thead>\n  <tbody>\n    <tr>\n      <th>0</th>\n      <td>420777</td>\n      <td>252299</td>\n    </tr>\n    <tr>\n      <th>2</th>\n      <td>667367</td>\n      <td>116104</td>\n    </tr>\n    <tr>\n      <th>9</th>\n      <td>682697</td>\n      <td>327176</td>\n    </tr>\n    <tr>\n      <th>11</th>\n      <td>690101</td>\n      <td>171511</td>\n    </tr>\n    <tr>\n      <th>18</th>\n      <td>693694</td>\n      <td>110973</td>\n    </tr>\n    <tr>\n      <th>...</th>\n      <td>...</td>\n      <td>...</td>\n    </tr>\n    <tr>\n      <th>2377</th>\n      <td>5816092</td>\n      <td>236561</td>\n    </tr>\n    <tr>\n      <th>2381</th>\n      <td>5817718</td>\n      <td>134708</td>\n    </tr>\n    <tr>\n      <th>2384</th>\n      <td>5821585</td>\n      <td>230254</td>\n    </tr>\n    <tr>\n      <th>2390</th>\n      <td>5840021</td>\n      <td>114278</td>\n    </tr>\n    <tr>\n      <th>2394</th>\n      <td>5859882</td>\n      <td>352466</td>\n    </tr>\n  </tbody>\n</table>\n<p>496 rows × 2 columns</p>\n</div>"
     },
     "metadata": {},
     "execution_count": 137
    }
   ],
   "source": [
    "df = ori[['recipe_info_id','view']].drop_duplicates(keep='first')\n",
    "df"
   ]
  },
  {
   "cell_type": "code",
   "execution_count": 142,
   "metadata": {},
   "outputs": [],
   "source": [
    "df['ingredient'] = ''"
   ]
  },
  {
   "cell_type": "code",
   "execution_count": 143,
   "metadata": {},
   "outputs": [],
   "source": [
    "for r, c in ori.iterrows():\n",
    "    corresponding_id = df['recipe_info_id'] == c[0]\n",
    "    df.loc[corresponding_id, 'ingredient'] += ' '+c[1]\n",
    "    # print(df.loc[corresponding_id, 'ingredient'])\n",
    "    "
   ]
  },
  {
   "cell_type": "code",
   "execution_count": 145,
   "metadata": {},
   "outputs": [],
   "source": [
    "df.to_json('django_db_wan.json')"
   ]
  },
  {
   "cell_type": "code",
   "execution_count": 156,
   "metadata": {},
   "outputs": [
    {
     "output_type": "execute_result",
     "data": {
      "text/plain": [
       "   recipe_info_id    view             ingredient\n",
       "0          420777  252299                 코다리 고추\n",
       "2          667367  116104   부추 양파 당근 고추 가루 가루 얼음\n",
       "9          682697  327176                돼지고기 고추"
      ],
      "text/html": "<div>\n<style scoped>\n    .dataframe tbody tr th:only-of-type {\n        vertical-align: middle;\n    }\n\n    .dataframe tbody tr th {\n        vertical-align: top;\n    }\n\n    .dataframe thead th {\n        text-align: right;\n    }\n</style>\n<table border=\"1\" class=\"dataframe\">\n  <thead>\n    <tr style=\"text-align: right;\">\n      <th></th>\n      <th>recipe_info_id</th>\n      <th>view</th>\n      <th>ingredient</th>\n    </tr>\n  </thead>\n  <tbody>\n    <tr>\n      <th>0</th>\n      <td>420777</td>\n      <td>252299</td>\n      <td>코다리 고추</td>\n    </tr>\n    <tr>\n      <th>2</th>\n      <td>667367</td>\n      <td>116104</td>\n      <td>부추 양파 당근 고추 가루 가루 얼음</td>\n    </tr>\n    <tr>\n      <th>9</th>\n      <td>682697</td>\n      <td>327176</td>\n      <td>돼지고기 고추</td>\n    </tr>\n  </tbody>\n</table>\n</div>"
     },
     "metadata": {},
     "execution_count": 156
    }
   ],
   "source": [
    "df.head(3)"
   ]
  },
  {
   "source": [
    "# 3. vector로 변환"
   ],
   "cell_type": "markdown",
   "metadata": {}
  },
  {
   "cell_type": "code",
   "execution_count": null,
   "metadata": {},
   "outputs": [],
   "source": [
    "node_origin = 'http://localhost:3000'\n",
    "url = node_origin + '/test/nodedb_to_django'+'/420777'\n",
    "res = requests.get(url)\n",
    "\n",
    "# 갖고 있는 재료를 django db 형식에 맞게 반환\n",
    "col = 'ingredient'\n",
    "retaining_ing = []\n",
    "for r in res.json():\n",
    "    retaining_ing.append(r['ingredient_name'])\n",
    "retaining = pd.DataFrame(data={col:[' '.join(current_ing)]})"
   ]
  },
  {
   "cell_type": "code",
   "execution_count": 195,
   "metadata": {},
   "outputs": [],
   "source": [
    "# 기존 데이터에 임시로 추가\n",
    "\n",
    "tmp = df[['ingredient']].append(retaining, ignore_index=True)"
   ]
  },
  {
   "cell_type": "code",
   "execution_count": 157,
   "metadata": {},
   "outputs": [],
   "source": [
    "# 벡터 변환기 생성\n",
    "count_vect = CountVectorizer(min_df=0, ngram_range=(1,2))\n",
    "count_vect = count_vect.fit(df['ingredient'])\n",
    "\n",
    "# 벡터 변환 > 유사도 계산 > 정렬\n",
    "ing_mat = count_vect.transform(tmp['ingredient'])       # (497,995)\n",
    "ing_sim = cosine_similarity(ing_mat, ing_mat)\n",
    "ing_sim_sorted_ind = ing_sim.argsort()[:,::-1]\n",
    "\n",
    "# 유사한 순으로 추출 > 조회수 많은 순으로 정렬\n",
    "top_n = 5\n",
    "similar_indexes = ing_sim_sorted_ind[tmp.shape[0]-1, 1:2*top_n]\n",
    "df.iloc[similar_indexes].sort_values('view', ascending=False)[:5]"
   ]
  }
 ]
}